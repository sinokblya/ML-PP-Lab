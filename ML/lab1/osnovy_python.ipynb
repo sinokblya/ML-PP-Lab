{
 "cells": [
  {
   "cell_type": "markdown",
   "metadata": {
    "id": "M-DGa20PaHnu"
   },
   "source": [
    "#Задача 1\n",
    "Написать функцию на вход которой подается строка, состоящая из латинских букв.\n",
    "Функция должна вернуть количество гласных букв (a, e, i, o, u) в этой строке. Написать тесты для кода"
   ]
  },
  {
   "cell_type": "code",
   "execution_count": 1,
   "metadata": {
    "id": "XvX8X_JJ6PCb"
   },
   "outputs": [
    {
     "name": "stdout",
     "output_type": "stream",
     "text": [
      "проверка успешная\n"
     ]
    }
   ],
   "source": [
    "def find_vowels(string):\n",
    "   VOWELS = \"aeiouAEIOU\"\n",
    "   count1= 0                \n",
    "   for char in string:\n",
    "       if char in VOWELS:\n",
    "           count1 += 1   \n",
    "   return count1 \n",
    "def test_find_vowels_no_vowels():\n",
    "   assert(find_vowels(\"Hello\")) == 2\n",
    "   assert(find_vowels(\"work\")) == 1\n",
    "   assert(find_vowels(\"jop\")) == 1\n",
    "   print(\"проверка успешная\")\n",
    "test_find_vowels_no_vowels()"
   ]
  },
  {
   "cell_type": "markdown",
   "metadata": {
    "id": "t2ClV_Y0bbr6"
   },
   "source": [
    "# Задача 2\n",
    "Написать функцию на вход, которой подается строка. Функция должна вернуть true, если\n",
    "каждый символ в строке встречается только 1 раз, иначе должна вернуть false. Написать тесты для кода"
   ]
  },
  {
   "cell_type": "code",
   "execution_count": 2,
   "metadata": {
    "id": "FppbECao6VIz"
   },
   "outputs": [
    {
     "name": "stdout",
     "output_type": "stream",
     "text": [
      "проверка успешная\n"
     ]
    }
   ],
   "source": [
    "def serch_True_False(string:str):\n",
    "    for i in string:\n",
    "        if string.count(i) >= 2:\n",
    "           return False\n",
    "    return True\n",
    "\n",
    "def test_serch_True_False():\n",
    "    assert(serch_True_False(\"asdf\")) == True\n",
    "    assert(serch_True_False(\"asdaf\")) == False\n",
    "    assert(serch_True_False(\"asuiopdf\")) == True\n",
    "    print(\"проверка успешная\")\n",
    "test_serch_True_False()   "
   ]
  },
  {
   "cell_type": "markdown",
   "metadata": {
    "id": "udRiIK1cdt6E"
   },
   "source": [
    "# Задача 3\n",
    "Написать функцию, которая принимает положительное число и возвращает количество\n",
    "бит равных 1 в этом числе. Написать тесты для кода"
   ]
  },
  {
   "cell_type": "code",
   "execution_count": 3,
   "metadata": {
    "id": "6tkfDJRz6dp_"
   },
   "outputs": [
    {
     "name": "stdout",
     "output_type": "stream",
     "text": [
      "проверка успешная\n"
     ]
    }
   ],
   "source": [
    "def bit_number(*,num:int):\n",
    "    num = int(num)\n",
    "    return bin(num).count('1')\n",
    "def tes_bit_number():\n",
    "    assert(bit_number(num=5)) == 2\n",
    "    assert(bit_number(num=26)) == 3\n",
    "    print(\"проверка успешная\")\n",
    "tes_bit_number()  "
   ]
  },
  {
   "cell_type": "markdown",
   "metadata": {
    "id": "26dDUz-Ae17N"
   },
   "source": [
    "# Задача 4\n",
    "Написать функцию, которая принимает положительное число. Функция должна вернуть то,\n",
    "сколько раз необходимо перемножать цифры числа или результат перемножения, чтобы\n",
    "получилось число состоящее из одной цифры.\n",
    "Например, для входного числа:\n",
    "· 39 функция должна вернуть 3, так как 3*9=27 => 2*7=14 => 1*4=4\n",
    "· 4 функция должна вернуть 0, так как число уже состоит из одной цифры\n",
    "· 999 функция должна вернуть 4, так как 9*9*9=729 => 7*2*9=126 => 1*2*6=12 =>\n",
    "1*2=2. Написать тесты для кода"
   ]
  },
  {
   "cell_type": "code",
   "execution_count": 4,
   "metadata": {
    "id": "BH1A_Mgi6i4G"
   },
   "outputs": [
    {
     "name": "stdout",
     "output_type": "stream",
     "text": [
      "проверка успешная\n"
     ]
    }
   ],
   "source": [
    "def magic(*,n:str):\n",
    "    count = 0\n",
    "    list_n = []\n",
    "    result= 1\n",
    "    for j in n:\n",
    "        list_n += j \n",
    "    while True:\n",
    "        for i in list_n:\n",
    "            i = int(i)\n",
    "            result *=i\n",
    "        list_n.clear()\n",
    "        for j in str(result):\n",
    "            list_n += j \n",
    "        count+=1    \n",
    "        if result<=9:\n",
    "            return count\n",
    "        result = 1\n",
    "        \n",
    "\n",
    "def test_magic():\n",
    "    number =\"39\"\n",
    "    assert(magic(n=number)) == 3\n",
    "    number =\"77\"\n",
    "    assert(magic(n=number)) == 4\n",
    "    number =\"999\"\n",
    "    assert(magic(n=number)) == 4\n",
    "    print(\"проверка успешная\")\n",
    "test_magic()  \n"
   ]
  },
  {
   "cell_type": "markdown",
   "metadata": {
    "id": "0nS-kIa8g8vd"
   },
   "source": [
    "# Задача 5\n",
    "Написать функцию, которая принимает два целочисленных вектора одинаковой длины и\n",
    "возвращает среднеквадратическое отклонение двух векторов. Написать тесты для кода"
   ]
  },
  {
   "cell_type": "code",
   "execution_count": 5,
   "metadata": {
    "id": "8iphx4LM6xbx"
   },
   "outputs": [
    {
     "name": "stdout",
     "output_type": "stream",
     "text": [
      "Тесты успешно пройдены!\n"
     ]
    }
   ],
   "source": [
    "import numpy as np\n",
    "\n",
    "def mse(pred, true):\n",
    "    return np.mean((pred - true)**2)\n",
    "\n",
    "# Тесты\n",
    "def test_mse():\n",
    "    pred1 = np.array([1, 2, 3])\n",
    "    true1 = np.array([1, 2, 3])\n",
    "    assert mse(pred1, true1) == 0\n",
    "\n",
    "    pred2 = np.array([1, 2, 3])\n",
    "    true2 = np.array([3, 4, 5])\n",
    "    assert mse(pred2, true2) == 4\n",
    "\n",
    "    pred3 = np.array([1, 2, 3])\n",
    "    true3 = np.array([5, 6, 7])\n",
    "    assert mse(pred3, true3) == 16\n",
    "\n",
    "    print(\"Тесты успешно пройдены!\")\n",
    "test_mse()    \n"
   ]
  },
  {
   "cell_type": "markdown",
   "metadata": {
    "id": "vpIPKL439zkw"
   },
   "source": [
    "# Задача 6\n",
    "Написать функцию, принимающая целое положительное число. Функция должна вернуть\n",
    "строку вида “(n1**p1)(n2**p2)…(nk**pk)” представляющая разложение числа на простые\n",
    "множители (если pi == 1, то выводить только ni).\n",
    "Например, для числа 86240 функция должна вернуть “(2**5)(5)(7**2)(11)”. Написать тесты для кода"
   ]
  },
  {
   "cell_type": "code",
   "execution_count": null,
   "metadata": {
    "id": "pFebmcZk94Jw"
   },
   "outputs": [],
   "source": [
    "\n"
   ]
  },
  {
   "cell_type": "markdown",
   "metadata": {
    "id": "ps2s0BudX7A2"
   },
   "source": [
    "# Задача 7\n",
    "Написать функцию, принимающая целое число n, задающее количество кубиков. Функция\n",
    "должна определить, можно ли из данного кол-ва кубиков построить пирамиду, то есть\n",
    "можно ли представить число n как 1^2+2^2+3^2+…+k^2. Если можно, то функция должна\n",
    "вернуть k, иначе строку “It is impossible”. Написать тесты для кода"
   ]
  },
  {
   "cell_type": "code",
   "execution_count": 7,
   "metadata": {
    "id": "3YPjEXxhX_YT"
   },
   "outputs": [
    {
     "name": "stdout",
     "output_type": "stream",
     "text": [
      "Тесты успешно пройдены!\n"
     ]
    }
   ],
   "source": [
    "def pyramid(number):\n",
    "  \n",
    "    k = 1\n",
    "    sum_squares = 0\n",
    "    while sum_squares < number:\n",
    "        sum_squares += k**2\n",
    "        k += 1\n",
    "    if sum_squares == number:\n",
    "        return k - 1\n",
    "    else:\n",
    "        return \"It is impossible\"\n",
    "\n",
    "# Тесты\n",
    "def test_pyramid():\n",
    "    assert pyramid(1) == 1\n",
    "    assert pyramid(14) == 3\n",
    "    assert pyramid(30) == 4\n",
    "    assert pyramid(44) == \"It is impossible\"\n",
    "\n",
    "    print(\"Тесты успешно пройдены!\")\n",
    "test_pyramid()"
   ]
  },
  {
   "cell_type": "markdown",
   "metadata": {
    "id": "KeKgmIdAQMEJ"
   },
   "source": [
    "# Задача 8\n",
    "Функция принимает на вход положительное число и определяет является ли оно сбалансированным, т.е. сумма цифр до средних равна сумме цифр после. Средними в случае нечетного числа цифр считать одну цифру, в случае четного - две средних. Написать тесты для кода"
   ]
  },
  {
   "cell_type": "code",
   "execution_count": 6,
   "metadata": {
    "id": "gMAAqtqlQrZt"
   },
   "outputs": [
    {
     "name": "stdout",
     "output_type": "stream",
     "text": [
      "Тесты успешно пройдены!\n"
     ]
    }
   ],
   "source": [
    "def balanced_number(number):\n",
    "    left_sum=0\n",
    "    right_sum=0\n",
    "\n",
    "    number_str =str(number)\n",
    "    len_num =len(number_str)\n",
    "    midle = len_num//2\n",
    "\n",
    "    for i in range(midle):\n",
    "        left_sum += int(number_str[i])\n",
    "    for i in range(midle + (len_num % 2), len_num):\n",
    "        right_sum += int(number_str[i])\n",
    "    return left_sum == right_sum\n",
    "def test_is_balanced():\n",
    "    assert balanced_number(1234567) == False\n",
    "    assert balanced_number(1111) == True\n",
    "    assert balanced_number(1234) == False\n",
    "    assert balanced_number(11111111) == True\n",
    "    assert balanced_number(12345678) == False\n",
    "\n",
    "    print(\"Тесты успешно пройдены!\")\n",
    "\n",
    "\n",
    "test_is_balanced()\n"
   ]
  }
 ],
 "metadata": {
  "colab": {
   "provenance": []
  },
  "kernelspec": {
   "display_name": "Python 3",
   "name": "python3"
  },
  "language_info": {
   "codemirror_mode": {
    "name": "ipython",
    "version": 3
   },
   "file_extension": ".py",
   "mimetype": "text/x-python",
   "name": "python",
   "nbconvert_exporter": "python",
   "pygments_lexer": "ipython3",
   "version": "3.12.1"
  }
 },
 "nbformat": 4,
 "nbformat_minor": 0
}
