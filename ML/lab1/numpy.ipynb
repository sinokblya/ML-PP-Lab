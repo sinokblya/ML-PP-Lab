{
 "cells": [
  {
   "cell_type": "markdown",
   "metadata": {
    "id": "vC84e9kzyxPy"
   },
   "source": [
    "<h1>Импорт библиотек"
   ]
  },
  {
   "cell_type": "code",
   "execution_count": 2,
   "metadata": {
    "id": "cgKeNegmQG5S"
   },
   "outputs": [],
   "source": [
    "import numpy as np\n",
    "import matplotlib.pyplot as plt"
   ]
  },
  {
   "cell_type": "markdown",
   "metadata": {
    "id": "qFM9uVU2x4Ls"
   },
   "source": [
    "<h1>Задача 1. Дан набор из $p$ матриц размерностью $(n, n)$ и $p$ векторов размерностью $(n, 1)$, найти сумму произведений матриц на векторы. Написать тесты для кода"
   ]
  },
  {
   "cell_type": "code",
   "execution_count": 1,
   "metadata": {
    "id": "IAbUvEiYyWFF"
   },
   "outputs": [
    {
     "data": {
      "text/plain": [
       "array([ 9, 19])"
      ]
     },
     "execution_count": 1,
     "metadata": {},
     "output_type": "execute_result"
    }
   ],
   "source": [
    "import numpy as np\n",
    "\n",
    "def sum_prod(*,X, V):\n",
    "    return(np.dot(X,V))\n",
    "\n",
    "arr1 = np.array([[1,2],[3,4]])\n",
    "vector = np.array([1,4])\n",
    "sum_prod(X=arr1,V=vector)"
   ]
  },
  {
   "cell_type": "markdown",
   "metadata": {
    "id": "TKwPG4fIy2w4"
   },
   "source": [
    "<h1>Задача 2. Дана матрица M, напишите функцию, которая бинаризует матрицу по некоторому threshold (то есть, все значения большие threshold становятся равными 1, иначе 0). Напишите тесты для кода"
   ]
  },
  {
   "cell_type": "code",
   "execution_count": 3,
   "metadata": {
    "id": "KQDNMgsjRNH7"
   },
   "outputs": [
    {
     "name": "stdout",
     "output_type": "stream",
     "text": [
      "Тесты успешно пройдены!\n"
     ]
    }
   ],
   "source": [
    "import numpy as np\n",
    "\n",
    "def binarize(M, threshold=0.5):\n",
    "    return (M > threshold).astype(int)\n",
    "\n",
    "# Тесты\n",
    "def test_binarize():\n",
    "    M1 = np.array([[0.2, 0.5], [0.4, 0.6]])\n",
    "    M2 = np.array([[1.6, 0.6], [0.4, 0.8]])\n",
    "\n",
    "    assert np.array_equal(binarize(M1), np.array([[0, 0], [0, 1]]))\n",
    "    assert np.array_equal(binarize(M2, threshold=0.6), np.array([[1, 0], [0, 1]]))\n",
    "\n",
    "    print(\"Тесты успешно пройдены!\")\n",
    "test_binarize()"
   ]
  },
  {
   "cell_type": "markdown",
   "metadata": {
    "id": "IY5L-h-7zWhN"
   },
   "source": [
    "<h1>Задача 3. Напишите функцию, которая возвращает уникальные элементы из каждой строки матрицы. Напишите такую же функцию, но для столбцов. Напишите тесты для кода"
   ]
  },
  {
   "cell_type": "code",
   "execution_count": 4,
   "metadata": {
    "id": "-8dEZhR0SBC-"
   },
   "outputs": [
    {
     "name": "stdout",
     "output_type": "stream",
     "text": [
      "Тесты успешно пройдены!\n"
     ]
    }
   ],
   "source": [
    "import numpy as np\n",
    "\n",
    "def unique_rows(mat):\n",
    "    unique_elements = []\n",
    "    for row in mat:\n",
    "        unique_elements.append(list(set(row)))\n",
    "    return unique_elements\n",
    "\n",
    "def unique_columns(mat):\n",
    "    unique_elements = []\n",
    "    for i in range(mat.shape[1]):\n",
    "        unique_elements.append(list(set(mat[:, i])))\n",
    "    return unique_elements\n",
    "\n",
    "# Тесты\n",
    "def test_unique_rows_columns():\n",
    "    mat = np.array([[1, 2, 3], [2, 1, 4], [1, 2, 3]])\n",
    "\n",
    "    assert unique_rows(mat) == [[1, 2, 3], [1, 2, 4], [1, 2, 3]]\n",
    "    assert unique_columns(mat) == [[1, 2], [1, 2], [3, 4]]\n",
    "\n",
    "    print(\"Тесты успешно пройдены!\")\n",
    "\n",
    "test_unique_rows_columns()"
   ]
  },
  {
   "cell_type": "markdown",
   "metadata": {
    "id": "roYAlo4Jz-lH"
   },
   "source": [
    "<h1>Задача 4. Напишите функцию, которая заполняет матрицу с размерами $(m, n)$ случайными числами, распределенными по нормальному закону. Затем считает мат. ожидание и дисперсию для каждого из столбцов и строк, а также строит для каждой строки и столбца гистограмму значений (использовать функцию hist из модуля matplotlib.plot)"
   ]
  },
  {
   "cell_type": "code",
   "execution_count": 5,
   "metadata": {
    "id": "nZK_71hMSQzv"
   },
   "outputs": [],
   "source": [
    "import numpy as np\n"
   ]
  },
  {
   "cell_type": "markdown",
   "metadata": {
    "id": "BDyATNdM0dJ2"
   },
   "source": [
    "<h1>Задача 5. Напишите функцию, которая заполняет матрицу $(m, n)$ в шахматном порядке заданными числами $a$ и $b$. Напишите тесты для кода"
   ]
  },
  {
   "cell_type": "code",
   "execution_count": 6,
   "metadata": {
    "id": "RWNJYWQGecS6"
   },
   "outputs": [
    {
     "name": "stdout",
     "output_type": "stream",
     "text": [
      "Тесты успешно пройдены!\n"
     ]
    }
   ],
   "source": [
    "def chess(m, n, a, b):\n",
    "\n",
    "    mat = np.zeros((m, n), dtype=int)\n",
    "    for i in range(m):\n",
    "        for j in range(n):\n",
    "            if (i + j) % 2 == 0:\n",
    "                mat[i, j] = a\n",
    "            else:\n",
    "                mat[i, j] = b\n",
    "    return mat\n",
    "\n",
    "# Тесты\n",
    "def test_chess():\n",
    "    assert np.array_equal(chess(3, 4, 1, 0), \n",
    "                         np.array([[1, 0, 1, 0], [0, 1, 0, 1], [1, 0, 1, 0]]))\n",
    "    assert np.array_equal(chess(2, 2, 2, 5), \n",
    "                         np.array([[2, 5], [5, 2]]))\n",
    "\n",
    "    print(\"Тесты успешно пройдены!\")\n",
    "\n",
    "test_chess()"
   ]
  },
  {
   "cell_type": "markdown",
   "metadata": {
    "id": "-ymXLtTN0vB6"
   },
   "source": [
    "<h1>Задача 6. Напишите функцию, которая отрисовывает прямоугольник с заданными размерами (a, b) на изображении размера (m, n), цвет фона задайте в схеме RGB, как и цвет прямоугольника. Цвета также должны быть параметрами функции. Напишите аналогичную функцию но для овала с полуосями a и b. Напишите тесты для кода.\n",
    "Примечание: уравнение эллипса (границы овала) можно записать как:\n",
    "<h1>$\\frac{(x-x_0)^2}{a^2}+\\frac{(y-y_0)^2}{b^2}=1$"
   ]
  },
  {
   "cell_type": "code",
   "execution_count": 7,
   "metadata": {
    "id": "sNfl1t_kfOF4"
   },
   "outputs": [],
   "source": [
    "def draw_rectangle(a, b, m, n, rectangle_color, background_color):\n",
    "    # Your code goes here\n",
    "    pass\n",
    "\n",
    "def draw_ellipse(a, b, m, n, ellipse_color, background_color):\n",
    "    # Your code goes here\n",
    "    pass"
   ]
  },
  {
   "cell_type": "markdown",
   "metadata": {
    "id": "S82c38oz244H"
   },
   "source": [
    "<h1>Задача 7. Дан некий временной ряд. Для данного ряда нужно найти его: математическое ожидание, дисперсию, СКО, найти все локальные максимумы и минимумы (локальный максимум - это точка, которая больше своих соседних точек, а локальный минимум - это точка, которая меньше своих соседей), а также вычислить для данного ряда другой ряд, получаемый методом скользящего среднего с размером окна $p$.\n",
    "<h1>Примечание: метод скользящего среднего подразумевает нахождение среднего из подмножетсва ряда размером $p$"
   ]
  },
  {
   "cell_type": "code",
   "execution_count": 8,
   "metadata": {
    "id": "Zb9mIVge5MMt"
   },
   "outputs": [
    {
     "name": "stdout",
     "output_type": "stream",
     "text": [
      "Тесты успешно пройдены!\n",
      "Тесты успешно пройдены!\n"
     ]
    }
   ],
   "source": [
    "import numpy as np\n",
    "\n",
    "def find_local_extrema(data):\n",
    "  local_extrema = []\n",
    "  for i in range(1, len(data) - 1):\n",
    "    if data[i] > data[i - 1] and data[i] > data[i + 1]:\n",
    "      local_extrema.append((i, data[i]))\n",
    "    elif data[i] < data[i - 1] and data[i] < data[i + 1]:\n",
    "      local_extrema.append((i, data[i]))\n",
    "  return local_extrema\n",
    "\n",
    "def moving_average(data, window_size):\n",
    " \n",
    "  if len(data) < window_size:\n",
    "    raise ValueError(\"Размер окна не может быть больше длины массива данных.\")\n",
    "\n",
    "  moving_averages = []\n",
    "  for i in range(window_size, len(data) + 1):\n",
    "    window = data[i - window_size:i]\n",
    "    moving_averages.append(np.mean(window))\n",
    "  return moving_averages\n",
    "\n",
    "# Тесты\n",
    "def test_local_extrema():\n",
    "  data = [1, 2, 3, 4, 5, 4, 3, 2, 1, 2, 3, 4, 5]\n",
    "  expected_extrema = [(4, 5), (8, 1)]\n",
    "  assert find_local_extrema(data) == expected_extrema\n",
    "  print(\"Тесты успешно пройдены!\")\n",
    "\n",
    "def test_moving_average():\n",
    "  data = [1, 2, 3, 4, 5, 6, 7, 8, 9, 10]\n",
    "  window_size = 3\n",
    "  expected_moving_averages = [2.0, 3.0, 4.0, 5.0, 6.0, 7.0, 8.0, 9.0]\n",
    "  assert moving_average(data, window_size) == expected_moving_averages\n",
    "  print(\"Тесты успешно пройдены!\")\n",
    "\n",
    "test_moving_average()\n",
    "test_local_extrema()"
   ]
  },
  {
   "cell_type": "markdown",
   "metadata": {
    "id": "jPkylmOX5O9n"
   },
   "source": [
    "<h1> Задача 8. Дан некоторый вектор с целочисленными метками классов, напишите функцию, которая выполняет one-hot-encoding для данного вектора\n",
    "<h1> One-hot-encoding - представление, в котором на месте метки некоторого класса стоит 1, в остальных позициях стоит 0. Например для вектора [0, 2, 3, 0] one-hot-encoding выглядит как: [[1, 0, 0, 0], [0, 0, 1, 0], [0, 0, 0, 1], [1, 0, 0, 0]]"
   ]
  },
  {
   "cell_type": "code",
   "execution_count": 48,
   "metadata": {
    "id": "Y-jlnZvw56lD"
   },
   "outputs": [],
   "source": [
    "# Your code goes here"
   ]
  }
 ],
 "metadata": {
  "colab": {
   "provenance": []
  },
  "kernelspec": {
   "display_name": "Python 3",
   "name": "python3"
  },
  "language_info": {
   "codemirror_mode": {
    "name": "ipython",
    "version": 3
   },
   "file_extension": ".py",
   "mimetype": "text/x-python",
   "name": "python",
   "nbconvert_exporter": "python",
   "pygments_lexer": "ipython3",
   "version": "3.12.1"
  }
 },
 "nbformat": 4,
 "nbformat_minor": 0
}
